{
 "cells": [
  {
   "cell_type": "markdown",
   "id": "f9d50e68",
   "metadata": {},
   "source": [
    "# Homework Exercises"
   ]
  },
  {
   "cell_type": "markdown",
   "id": "bec7ae29",
   "metadata": {},
   "source": [
    "### Exercise #1 <br>\n",
    "<p>Filter out all of the empty strings from the list below</p>\n",
    "\n",
    "`Output: ['Argentina', 'San Diego', 'Boston', 'New York']`"
   ]
  },
  {
   "cell_type": "code",
   "execution_count": 1,
   "id": "1e5319c3",
   "metadata": {},
   "outputs": [
    {
     "name": "stdout",
     "output_type": "stream",
     "text": [
      "['Argentina', 'San Diego', 'Boston', 'New York']\n"
     ]
    }
   ],
   "source": [
    "places = [\" \",\"Argentina\", \" \", \"San Diego\",\"\",\"  \",\"\",\"Boston\",\"New York\"]\n",
    "\n",
    "# New list to append to\n",
    "ans = []\n",
    "\n",
    "# Iterating through places list\n",
    "for word in places:\n",
    "    \n",
    "    # If word is an empty string, continue\n",
    "    if word == '':\n",
    "        continue\n",
    "    \n",
    "    # If element at index 0 isalpha() append to new list\n",
    "    elif word[0].isalpha():\n",
    "        ans.append(word)\n",
    "\n",
    "print(ans)"
   ]
  },
  {
   "cell_type": "code",
   "execution_count": 2,
   "id": "3bef604a",
   "metadata": {},
   "outputs": [
    {
     "data": {
      "text/plain": [
       "['Argentina', 'San Diego', 'Boston', 'New York']"
      ]
     },
     "execution_count": 2,
     "metadata": {},
     "output_type": "execute_result"
    }
   ],
   "source": [
    "list(filter(lambda word: word != \"\" and word[0].isalpha(), places))"
   ]
  },
  {
   "cell_type": "code",
   "execution_count": 3,
   "id": "b132a98f",
   "metadata": {},
   "outputs": [
    {
     "data": {
      "text/plain": [
       "['Argentina', 'Boston']"
      ]
     },
     "execution_count": 3,
     "metadata": {},
     "output_type": "execute_result"
    }
   ],
   "source": [
    "list(filter(lambda word: word.isalpha(), places))"
   ]
  },
  {
   "cell_type": "markdown",
   "id": "f4b23623",
   "metadata": {},
   "source": [
    "### Exercise #2 <br>\n",
    "<p>Write an anonymous function that sorts this list by the last name...<br><b>Hint: Use the \".sort()\" method and access the key\"</b></p>\n",
    "\n",
    "`Output: ['Victor aNisimov', 'Gary A.J. Bernstein', 'Joel Carter', 'Andrew P. Garfield', 'David hassELHOFF']`"
   ]
  },
  {
   "cell_type": "code",
   "execution_count": 4,
   "id": "f38583b3",
   "metadata": {},
   "outputs": [
    {
     "name": "stdout",
     "output_type": "stream",
     "text": [
      "['Victor aNisimov', 'Gary A.J. Bernstein', 'Joel Carter', 'Andrew P. Garfield', 'David hassELHOFF']\n"
     ]
    }
   ],
   "source": [
    "author = [\"Joel Carter\", \"Victor aNisimov\", \"Andrew P. Garfield\",\"David hassELHOFF\",\"Gary A.J. Bernstein\"]\n",
    "\n",
    "# Function to sort author list by last name\n",
    "def sort_last(author):\n",
    "    \n",
    "    # Sort author list by last name ignoring-case with .lower()\n",
    "    author.sort(key = lambda x: x.lower().split()[-1])\n",
    "    \n",
    "    # Return list sorted by last name, ignoring-case -> with lambda function\n",
    "    return author\n",
    "    \n",
    "print(sort_last(author))"
   ]
  },
  {
   "cell_type": "markdown",
   "id": "8328db16",
   "metadata": {},
   "source": [
    "### Exercise #3 <br>\n",
    "<p>Convert the list below from Celsius to Farhenheit, using the map function with a lambda...</p>\n",
    "\n",
    "`Output: [('Nashua', 89.6), ('Boston', 53.6), ('Los Angelos', 111.2), ('Miami', 84.2)]`"
   ]
  },
  {
   "cell_type": "code",
   "execution_count": 5,
   "id": "8074c7cb",
   "metadata": {},
   "outputs": [],
   "source": [
    "# F = (9/5)*C + 32\n",
    "places = [('Nashua',32),(\"Boston\",12),(\"Los Angelos\",44),(\"Miami\",29)]"
   ]
  },
  {
   "cell_type": "code",
   "execution_count": 6,
   "id": "0c9f1e23",
   "metadata": {
    "scrolled": false
   },
   "outputs": [
    {
     "name": "stdout",
     "output_type": "stream",
     "text": [
      "['Nashua', 89.6, 'Boston', 53.6, 'Los Angelos', 111.2, 'Miami', 84.2]\n"
     ]
    }
   ],
   "source": [
    "places = [('Nashua',32),(\"Boston\",12),(\"Los Angelos\",44),(\"Miami\",29)]\n",
    "\n",
    "# Separate numbers of Tuple into new lists ?!?\n",
    "\n",
    "# Function for separating list of Tuples\n",
    "def separate_list(list):\n",
    "    \n",
    "    # List for cities and list for temperatures\n",
    "    cities = []\n",
    "    temperatures = []\n",
    "    \n",
    "    # Iterate through list of Tuples\n",
    "    for city, temp in list:\n",
    "        \n",
    "        # Append city to cities list\n",
    "        cities.append(city)\n",
    "        \n",
    "        # Append temperature to temperatures list\n",
    "        temperatures.append(temp)\n",
    "    \n",
    "    # Get cities and temperatures list\n",
    "    return (cities, temperatures)\n",
    "\n",
    "# Applying separate_list function to list of Tuples -> Variables are ('Nashua', 89.6) -> (cities, temperatures)\n",
    "cities, temperatures = separate_list(places)\n",
    "\n",
    "# Loop over the current numbers list\n",
    "for x in temperatures:\n",
    "    \n",
    "    # Apply list map lambda to temperatures list\n",
    "    c = 9/5\n",
    "    fahrenheit = list(map(lambda x: x * c + 32, temperatures))\n",
    "    \n",
    "# .join separated list after fahrenheit conversion\n",
    "# zip() function combines list items sequentially -> x, y -> x1, y1 -> x2, y2\n",
    "y = [i for list in zip(cities, fahrenheit) for i in list]\n",
    "print(y)\n",
    "\n",
    "#list(map(lambda x: x * (9 / 5) + 32, places))"
   ]
  },
  {
   "cell_type": "markdown",
   "id": "8e1f99db",
   "metadata": {},
   "source": [
    "### Exercise #4 <br>\n",
    "<p>Write a recursion function to perform the fibonacci sequence up to the number passed in.</p>\n",
    "\n",
    "`Output for fib(5) => \n",
    "Iteration 0: 0\n",
    "Iteration 1: 1\n",
    "Iteration 2: 1\n",
    "Iteration 3: 2\n",
    "Iteration 4: 3"
   ]
  },
  {
   "cell_type": "code",
   "execution_count": 7,
   "id": "32c67523",
   "metadata": {},
   "outputs": [],
   "source": [
    "# Fibonacci Sequence = 0, 1, 1, 2, 3, 5, 8, 13, 21, 34, 55, 89, 144, 233, 377, 610, 987, 1597, 2584, 4181, 6765, 10946..."
   ]
  },
  {
   "cell_type": "code",
   "execution_count": 8,
   "id": "d3d1f84c",
   "metadata": {},
   "outputs": [
    {
     "name": "stdout",
     "output_type": "stream",
     "text": [
      "[0, 1, 1, 2, 3]\n"
     ]
    }
   ],
   "source": [
    "# Return Fibonacci series up to n -> From Python modules section: https://docs.python.org/3.9/tutorial/modules.html\n",
    "def fib(n):\n",
    "    result = []\n",
    "    a, b = 0, 1\n",
    "    while a < n:\n",
    "        result.append(a)\n",
    "        a, b = b, a+b\n",
    "    return result\n",
    "\n",
    "print(fib(5))"
   ]
  },
  {
   "cell_type": "code",
   "execution_count": 9,
   "id": "86a70aa5",
   "metadata": {},
   "outputs": [
    {
     "name": "stdout",
     "output_type": "stream",
     "text": [
      "0 1 1 2 3 None\n"
     ]
    }
   ],
   "source": [
    "# Write Fibonacci series up to n -> From Python modules section: https://docs.python.org/3.9/tutorial/modules.html\n",
    "def fib(n):\n",
    "    a, b = 0, 1\n",
    "    while a < n:\n",
    "        print(a, end=' ')\n",
    "        a, b = b, a+b\n",
    "\n",
    "print(fib(5))"
   ]
  },
  {
   "cell_type": "code",
   "execution_count": 10,
   "id": "bf04d4e4",
   "metadata": {},
   "outputs": [
    {
     "name": "stdout",
     "output_type": "stream",
     "text": [
      "0\n",
      "1\n",
      "1\n",
      "2\n",
      "3\n",
      "5\n",
      "8\n",
      "13\n",
      "21\n",
      "34\n",
      "55\n",
      "89\n",
      "144\n",
      "233\n",
      "377\n",
      "610\n",
      "987\n",
      "1597\n",
      "2584\n",
      "4181\n",
      "6765\n"
     ]
    }
   ],
   "source": [
    "# Fibonacci series up to n with more Recursion!\n",
    "def fib(n):\n",
    "    \n",
    "    # Checking for if n is less than or equal to 0 then return 0\n",
    "    if (n <= 1):\n",
    "        return n\n",
    "    \n",
    "    # In mathematical terms, the sequence Fn of Fibonacci numbers is defined by the recurrence relation\n",
    "    else:\n",
    "        return(fib(n-1) + fib(n-2))\n",
    "        # Recurrence relation is an equation that defines a sequence where the next term is a function of the previous terms\n",
    "\n",
    "n = int(input(\"\"\"Welcome to the Fibonacci series iteration counter\n",
    "\n",
    "Enter the number of iterations desired: \"\"\"))\n",
    "\n",
    "# Fibonacci series count starts at input and goes down, printing each number that is part of the sequence until 0\n",
    "for num in range(n):\n",
    "    print(fib(num))"
   ]
  },
  {
   "cell_type": "markdown",
   "id": "c2d2b1c5",
   "metadata": {},
   "source": [
    "#### In-Class Exercise #5 <br>\n",
    "<p>Create a generator that takes a number argument and yields that number squared, then prints each number squared until zero is reached.</p>"
   ]
  },
  {
   "cell_type": "code",
   "execution_count": 11,
   "id": "ab15ef10",
   "metadata": {},
   "outputs": [],
   "source": [
    "# Generator(10) = 100, 81, 64, 49, 36, 25, 16, 9, 4, 1, 0"
   ]
  },
  {
   "cell_type": "code",
   "execution_count": 12,
   "id": "da309fb7",
   "metadata": {},
   "outputs": [
    {
     "name": "stdout",
     "output_type": "stream",
     "text": [
      "100\n",
      "81\n",
      "64\n",
      "49\n",
      "36\n",
      "25\n",
      "16\n",
      "9\n",
      "4\n",
      "1\n"
     ]
    }
   ],
   "source": [
    "# Squared minus one generator\n",
    "def squared_minus_one(start, stop, step=1):\n",
    "    \n",
    "    # While start is less than stop, function will operate \n",
    "    while start < stop:\n",
    "        \n",
    "        # stop is the number argument we want squared\n",
    "        yield stop**2\n",
    "        \n",
    "        # step is reducing stop (set to 1) until 0 \n",
    "        stop -= step\n",
    "\n",
    "# Iterating through each number in range and printing the result of squared_minus_one function        \n",
    "for num in squared_minus_one(0, 10):\n",
    "    print(num)"
   ]
  }
 ],
 "metadata": {
  "kernelspec": {
   "display_name": "Python 3.9.13 64-bit",
   "language": "python",
   "name": "python3"
  },
  "language_info": {
   "codemirror_mode": {
    "name": "ipython",
    "version": 3
   },
   "file_extension": ".py",
   "mimetype": "text/x-python",
   "name": "python",
   "nbconvert_exporter": "python",
   "pygments_lexer": "ipython3",
   "version": "3.9.13"
  },
  "vscode": {
   "interpreter": {
    "hash": "829b5de4ab4fd1954ada4a5f2b22709021a5048cae9a1512fbbbf59543079bf0"
   }
  }
 },
 "nbformat": 4,
 "nbformat_minor": 5
}
